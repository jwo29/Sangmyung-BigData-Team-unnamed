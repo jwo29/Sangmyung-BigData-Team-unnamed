{
 "cells": [
  {
   "cell_type": "code",
   "execution_count": 2,
   "metadata": {},
   "outputs": [],
   "source": [
    "import pandas as pd\n",
    "import numpy as np\n",
    "import matplotlib.pyplot as plt"
   ]
  },
  {
   "cell_type": "code",
   "execution_count": 3,
   "metadata": {},
   "outputs": [],
   "source": [
    "route_group_by_interval_time = dict() # {10: [# 배차 간격이 10분인 버스 ids]}"
   ]
  },
  {
   "cell_type": "code",
   "execution_count": 4,
   "metadata": {},
   "outputs": [
    {
     "data": {
      "text/html": [
       "<div>\n",
       "<style scoped>\n",
       "    .dataframe tbody tr th:only-of-type {\n",
       "        vertical-align: middle;\n",
       "    }\n",
       "\n",
       "    .dataframe tbody tr th {\n",
       "        vertical-align: top;\n",
       "    }\n",
       "\n",
       "    .dataframe thead th {\n",
       "        text-align: right;\n",
       "    }\n",
       "</style>\n",
       "<table border=\"1\" class=\"dataframe\">\n",
       "  <thead>\n",
       "    <tr style=\"text-align: right;\">\n",
       "      <th></th>\n",
       "      <th>routeid</th>\n",
       "      <th>routeno</th>\n",
       "      <th>startnodenm</th>\n",
       "      <th>startvehicletime</th>\n",
       "      <th>endnodenm</th>\n",
       "      <th>endvehicletime</th>\n",
       "      <th>intervaltime</th>\n",
       "    </tr>\n",
       "  </thead>\n",
       "  <tbody>\n",
       "    <tr>\n",
       "      <th>0</th>\n",
       "      <td>CAB285000006</td>\n",
       "      <td>11</td>\n",
       "      <td>두정우성아파트</td>\n",
       "      <td>605</td>\n",
       "      <td>두정우남아파트</td>\n",
       "      <td>2230</td>\n",
       "      <td>10</td>\n",
       "    </tr>\n",
       "    <tr>\n",
       "      <th>1</th>\n",
       "      <td>CAB285000007</td>\n",
       "      <td>11</td>\n",
       "      <td>두정우남아파트</td>\n",
       "      <td>610</td>\n",
       "      <td>두정한성아파트</td>\n",
       "      <td>2230</td>\n",
       "      <td>10</td>\n",
       "    </tr>\n",
       "    <tr>\n",
       "      <th>2</th>\n",
       "      <td>CAB285000008</td>\n",
       "      <td>12</td>\n",
       "      <td>방아다리공원</td>\n",
       "      <td>604</td>\n",
       "      <td>부영아파트</td>\n",
       "      <td>2230</td>\n",
       "      <td>7</td>\n",
       "    </tr>\n",
       "    <tr>\n",
       "      <th>3</th>\n",
       "      <td>CAB285000009</td>\n",
       "      <td>12</td>\n",
       "      <td>부영아파트</td>\n",
       "      <td>605</td>\n",
       "      <td>방아다리공원</td>\n",
       "      <td>2222</td>\n",
       "      <td>7</td>\n",
       "    </tr>\n",
       "    <tr>\n",
       "      <th>4</th>\n",
       "      <td>CAB285000010</td>\n",
       "      <td>13</td>\n",
       "      <td>단대병원</td>\n",
       "      <td>600</td>\n",
       "      <td>천안아산역</td>\n",
       "      <td>2230</td>\n",
       "      <td>11</td>\n",
       "    </tr>\n",
       "    <tr>\n",
       "      <th>5</th>\n",
       "      <td>CAB285000011</td>\n",
       "      <td>13</td>\n",
       "      <td>천안아산역</td>\n",
       "      <td>605</td>\n",
       "      <td>단대병원</td>\n",
       "      <td>2245</td>\n",
       "      <td>11</td>\n",
       "    </tr>\n",
       "    <tr>\n",
       "      <th>6</th>\n",
       "      <td>CAB285000012</td>\n",
       "      <td>14</td>\n",
       "      <td>방아다리공원</td>\n",
       "      <td>600</td>\n",
       "      <td>백석대학교(운동장)</td>\n",
       "      <td>2220</td>\n",
       "      <td>10</td>\n",
       "    </tr>\n",
       "    <tr>\n",
       "      <th>7</th>\n",
       "      <td>CAB285000013</td>\n",
       "      <td>14</td>\n",
       "      <td>백석대학교(운동장)</td>\n",
       "      <td>610</td>\n",
       "      <td>방아다리공원</td>\n",
       "      <td>2215</td>\n",
       "      <td>10</td>\n",
       "    </tr>\n",
       "    <tr>\n",
       "      <th>8</th>\n",
       "      <td>CAB285000024</td>\n",
       "      <td>24</td>\n",
       "      <td>각원사</td>\n",
       "      <td>610</td>\n",
       "      <td>동우아파트</td>\n",
       "      <td>2230</td>\n",
       "      <td>20</td>\n",
       "    </tr>\n",
       "    <tr>\n",
       "      <th>9</th>\n",
       "      <td>CAB285000025</td>\n",
       "      <td>24</td>\n",
       "      <td>동우아파트</td>\n",
       "      <td>620</td>\n",
       "      <td>각원사</td>\n",
       "      <td>2225</td>\n",
       "      <td>20</td>\n",
       "    </tr>\n",
       "    <tr>\n",
       "      <th>10</th>\n",
       "      <td>CAB285000293</td>\n",
       "      <td>81</td>\n",
       "      <td>각원사</td>\n",
       "      <td>620</td>\n",
       "      <td>차암2통</td>\n",
       "      <td>2240</td>\n",
       "      <td>20</td>\n",
       "    </tr>\n",
       "    <tr>\n",
       "      <th>11</th>\n",
       "      <td>CAB285000294</td>\n",
       "      <td>81</td>\n",
       "      <td>차암2통</td>\n",
       "      <td>630</td>\n",
       "      <td>각원사</td>\n",
       "      <td>2230</td>\n",
       "      <td>20</td>\n",
       "    </tr>\n",
       "  </tbody>\n",
       "</table>\n",
       "</div>"
      ],
      "text/plain": [
       "         routeid  routeno startnodenm  startvehicletime   endnodenm  \\\n",
       "0   CAB285000006       11     두정우성아파트               605     두정우남아파트   \n",
       "1   CAB285000007       11     두정우남아파트               610     두정한성아파트   \n",
       "2   CAB285000008       12      방아다리공원               604       부영아파트   \n",
       "3   CAB285000009       12       부영아파트               605      방아다리공원   \n",
       "4   CAB285000010       13        단대병원               600       천안아산역   \n",
       "5   CAB285000011       13       천안아산역               605        단대병원   \n",
       "6   CAB285000012       14      방아다리공원               600  백석대학교(운동장)   \n",
       "7   CAB285000013       14  백석대학교(운동장)               610      방아다리공원   \n",
       "8   CAB285000024       24         각원사               610       동우아파트   \n",
       "9   CAB285000025       24       동우아파트               620         각원사   \n",
       "10  CAB285000293       81         각원사               620        차암2통   \n",
       "11  CAB285000294       81        차암2통               630         각원사   \n",
       "\n",
       "    endvehicletime  intervaltime  \n",
       "0             2230            10  \n",
       "1             2230            10  \n",
       "2             2230             7  \n",
       "3             2222             7  \n",
       "4             2230            11  \n",
       "5             2245            11  \n",
       "6             2220            10  \n",
       "7             2215            10  \n",
       "8             2230            20  \n",
       "9             2225            20  \n",
       "10            2240            20  \n",
       "11            2230            20  "
      ]
     },
     "execution_count": 4,
     "metadata": {},
     "output_type": "execute_result"
    }
   ],
   "source": [
    "route_info_df = pd.read_csv('../csv/route_info.csv', index_col=0)\n",
    "route_info_df"
   ]
  },
  {
   "cell_type": "code",
   "execution_count": 5,
   "metadata": {},
   "outputs": [
    {
     "data": {
      "text/plain": [
       "{10: ['CAB285000006', 'CAB285000007', 'CAB285000012', 'CAB285000013'],\n",
       " 7: ['CAB285000008', 'CAB285000009'],\n",
       " 11: ['CAB285000010', 'CAB285000011'],\n",
       " 20: ['CAB285000024', 'CAB285000025', 'CAB285000293', 'CAB285000294']}"
      ]
     },
     "execution_count": 5,
     "metadata": {},
     "output_type": "execute_result"
    }
   ],
   "source": [
    "for i in range(len(route_info_df)):\n",
    "    if route_info_df.iloc[i, 6] not in route_group_by_interval_time:\n",
    "        route_group_by_interval_time[route_info_df.iloc[i, 6]] = list()\n",
    "    route_group_by_interval_time[route_info_df.iloc[i, 6]].append(route_info_df.iloc[i, 0])\n",
    "    \n",
    "route_group_by_interval_time"
   ]
  },
  {
   "cell_type": "markdown",
   "metadata": {},
   "source": [
    "### Compute interval time difference"
   ]
  },
  {
   "cell_type": "code",
   "execution_count": 6,
   "metadata": {},
   "outputs": [
    {
     "data": {
      "text/html": [
       "<div>\n",
       "<style scoped>\n",
       "    .dataframe tbody tr th:only-of-type {\n",
       "        vertical-align: middle;\n",
       "    }\n",
       "\n",
       "    .dataframe tbody tr th {\n",
       "        vertical-align: top;\n",
       "    }\n",
       "\n",
       "    .dataframe thead th {\n",
       "        text-align: right;\n",
       "    }\n",
       "</style>\n",
       "<table border=\"1\" class=\"dataframe\">\n",
       "  <thead>\n",
       "    <tr style=\"text-align: right;\">\n",
       "      <th></th>\n",
       "      <th>CAB285000006</th>\n",
       "      <th>CAB285000007</th>\n",
       "      <th>CAB285000008</th>\n",
       "      <th>CAB285000009</th>\n",
       "      <th>CAB285000010</th>\n",
       "      <th>CAB285000011</th>\n",
       "      <th>CAB285000012</th>\n",
       "      <th>CAB285000013</th>\n",
       "      <th>CAB285000024</th>\n",
       "      <th>CAB285000025</th>\n",
       "      <th>CAB285000293</th>\n",
       "      <th>CAB285000294</th>\n",
       "      <th>total_average</th>\n",
       "    </tr>\n",
       "  </thead>\n",
       "  <tbody>\n",
       "    <tr>\n",
       "      <th>0</th>\n",
       "      <td>806.977387</td>\n",
       "      <td>772.654124</td>\n",
       "      <td>525.265973</td>\n",
       "      <td>528.171875</td>\n",
       "      <td>540.390947</td>\n",
       "      <td>633.551308</td>\n",
       "      <td>865.961250</td>\n",
       "      <td>659.640845</td>\n",
       "      <td>986.110865</td>\n",
       "      <td>865.662125</td>\n",
       "      <td>808.112335</td>\n",
       "      <td>865.453968</td>\n",
       "      <td>738.162750</td>\n",
       "    </tr>\n",
       "    <tr>\n",
       "      <th>1</th>\n",
       "      <td>805.548000</td>\n",
       "      <td>779.141994</td>\n",
       "      <td>518.970266</td>\n",
       "      <td>526.023451</td>\n",
       "      <td>591.745342</td>\n",
       "      <td>778.535088</td>\n",
       "      <td>859.224299</td>\n",
       "      <td>692.057584</td>\n",
       "      <td>1136.805000</td>\n",
       "      <td>1066.214744</td>\n",
       "      <td>724.991361</td>\n",
       "      <td>867.588850</td>\n",
       "      <td>778.903831</td>\n",
       "    </tr>\n",
       "    <tr>\n",
       "      <th>2</th>\n",
       "      <td>779.909814</td>\n",
       "      <td>732.805215</td>\n",
       "      <td>560.141946</td>\n",
       "      <td>560.023256</td>\n",
       "      <td>716.148073</td>\n",
       "      <td>814.033333</td>\n",
       "      <td>905.069799</td>\n",
       "      <td>678.465753</td>\n",
       "      <td>1224.865633</td>\n",
       "      <td>1217.277778</td>\n",
       "      <td>879.091093</td>\n",
       "      <td>1045.473016</td>\n",
       "      <td>842.775392</td>\n",
       "    </tr>\n",
       "    <tr>\n",
       "      <th>3</th>\n",
       "      <td>798.473856</td>\n",
       "      <td>830.686025</td>\n",
       "      <td>606.470135</td>\n",
       "      <td>687.753479</td>\n",
       "      <td>671.830688</td>\n",
       "      <td>964.053191</td>\n",
       "      <td>915.948357</td>\n",
       "      <td>708.767213</td>\n",
       "      <td>1256.926056</td>\n",
       "      <td>1178.532110</td>\n",
       "      <td>865.940510</td>\n",
       "      <td>1018.623482</td>\n",
       "      <td>875.333759</td>\n",
       "    </tr>\n",
       "  </tbody>\n",
       "</table>\n",
       "</div>"
      ],
      "text/plain": [
       "   CAB285000006  CAB285000007  CAB285000008  CAB285000009  CAB285000010  \\\n",
       "0    806.977387    772.654124    525.265973    528.171875    540.390947   \n",
       "1    805.548000    779.141994    518.970266    526.023451    591.745342   \n",
       "2    779.909814    732.805215    560.141946    560.023256    716.148073   \n",
       "3    798.473856    830.686025    606.470135    687.753479    671.830688   \n",
       "\n",
       "   CAB285000011  CAB285000012  CAB285000013  CAB285000024  CAB285000025  \\\n",
       "0    633.551308    865.961250    659.640845    986.110865    865.662125   \n",
       "1    778.535088    859.224299    692.057584   1136.805000   1066.214744   \n",
       "2    814.033333    905.069799    678.465753   1224.865633   1217.277778   \n",
       "3    964.053191    915.948357    708.767213   1256.926056   1178.532110   \n",
       "\n",
       "   CAB285000293  CAB285000294  total_average  \n",
       "0    808.112335    865.453968     738.162750  \n",
       "1    724.991361    867.588850     778.903831  \n",
       "2    879.091093   1045.473016     842.775392  \n",
       "3    865.940510   1018.623482     875.333759  "
      ]
     },
     "execution_count": 6,
     "metadata": {},
     "output_type": "execute_result"
    }
   ],
   "source": [
    "interval_aver_df = pd.read_csv('../csv/data_table.csv')\n",
    "interval_aver_df"
   ]
  },
  {
   "cell_type": "code",
   "execution_count": 9,
   "metadata": {},
   "outputs": [
    {
     "data": {
      "text/plain": [
       "CAB285000006      797.727264\n",
       "CAB285000007      778.821840\n",
       "CAB285000008      552.712080\n",
       "CAB285000009      575.493015\n",
       "CAB285000010      630.028762\n",
       "CAB285000011      797.543230\n",
       "CAB285000012      886.550926\n",
       "CAB285000013      684.732849\n",
       "CAB285000024     1151.176889\n",
       "CAB285000025     1081.921689\n",
       "CAB285000293      819.533825\n",
       "CAB285000294      949.284829\n",
       "total_average     808.793933\n",
       "dtype: float64"
      ]
     },
     "execution_count": 9,
     "metadata": {},
     "output_type": "execute_result"
    }
   ],
   "source": [
    "total_interval_aver = interval_aver_df.mean()\n",
    "total_interval_aver"
   ]
  },
  {
   "cell_type": "code",
   "execution_count": 26,
   "metadata": {},
   "outputs": [
    {
     "name": "stdout",
     "output_type": "stream",
     "text": [
      "[[  0.          18.90542473  88.82366177 112.9944154 ]\n",
      " [ 18.90542473   0.         107.7290865   94.08899067]\n",
      " [ 88.82366177 107.7290865    0.         201.81807716]\n",
      " [112.9944154   94.08899067 201.81807716   0.        ]]\n",
      "======== [ end comparing of interval group10 ]\n",
      "[[ 0.         22.78093515]\n",
      " [22.78093515  0.        ]]\n",
      "======== [ end comparing of interval group7 ]\n",
      "[[  0.         167.51446785]\n",
      " [167.51446785   0.        ]]\n",
      "======== [ end comparing of interval group11 ]\n",
      "[[  0.          69.25519934 331.64306391 201.89205952]\n",
      " [ 69.25519934   0.         262.38786457 132.63686018]\n",
      " [331.64306391 262.38786457   0.         129.75100439]\n",
      " [201.89205952 132.63686018 129.75100439   0.        ]]\n",
      "======== [ end comparing of interval group20 ]\n"
     ]
    },
    {
     "data": {
      "image/png": "[encoded data removed]",
      "text/plain": [
       "<Figure size 288x288 with 2 Axes>"
      ]
     },
     "metadata": {
      "needs_background": "light"
     },
     "output_type": "display_data"
    },
    {
     "data": {
      "image/png": "[encoded data removed]",
      "text/plain": [
       "<Figure size 144x144 with 2 Axes>"
      ]
     },
     "metadata": {
      "needs_background": "light"
     },
     "output_type": "display_data"
    },
    {
     "data": {
      "image/png": "[encoded data removed]",
      "text/plain": [
       "<Figure size 144x144 with 2 Axes>"
      ]
     },
     "metadata": {
      "needs_background": "light"
     },
     "output_type": "display_data"
    },
    {
     "data": {
      "image/png": "[encoded data removed]",
      "text/plain": [
       "<Figure size 288x288 with 2 Axes>"
      ]
     },
     "metadata": {
      "needs_background": "light"
     },
     "output_type": "display_data"
    }
   ],
   "source": [
    "for interval_time, bus_list in route_group_by_interval_time.items():\n",
    "    group_interval_time = list()\n",
    "    \n",
    "    for i in range(len(bus_list)):\n",
    "        group_interval_time.append(list())\n",
    "        curr_bus_interval_aver = total_interval_aver[bus_list[i]]\n",
    "        \n",
    "        for j in range(len(bus_list)):\n",
    "            comp_bus_interval_aver = total_interval_aver[bus_list[j]]\n",
    "            \n",
    "            # Compute interval difference between bus_list[i] and bus_list[j]\n",
    "            time_difference = abs(curr_bus_interval_aver - comp_bus_interval_aver)\n",
    "            group_interval_time[i].append(time_difference)\n",
    "            \n",
    "    # Draw graph\n",
    "    group_interval_time_T = np.transpose(group_interval_time) # group_interval_teim_T = group_interval_time.T\n",
    "    print(group_interval_time_T)\n",
    "    \n",
    "    fig = plt.figure(figsize=[len(bus_list), len(bus_list)])\n",
    "    plt.imshow(group_interval_time_T, interpolation='none', vmin=0, vmax=max(group_interval_time_T[0]))\n",
    "    plt.colorbar(shrink=0.7)\n",
    "    plt.xticks(range(len(bus_list)), bus_list, rotation=90, ha='center')\n",
    "    plt.yticks(range(len(bus_list)), bus_list)\n",
    "    \n",
    "    # save graph\n",
    "    plt.savefig('../image/interval_diff_interval_'+str(interval_time)+'.png')\n",
    "\n",
    "    print('======== [ end comparing of interval group{} ]'.format(interval_time))"
   ]
  },
  {
   "cell_type": "code",
   "execution_count": null,
   "metadata": {},
   "outputs": [],
   "source": []
  }
 ],
 "metadata": {
  "kernelspec": {
   "display_name": "Python 3",
   "language": "python",
   "name": "python3"
  },
  "language_info": {
   "codemirror_mode": {
    "name": "ipython",
    "version": 3
   },
   "file_extension": ".py",
   "mimetype": "text/x-python",
   "name": "python",
   "nbconvert_exporter": "python",
   "pygments_lexer": "ipython3",
   "version": "3.8.5"
  }
 },
 "nbformat": 4,
 "nbformat_minor": 4
}
