{
 "cells": [
  {
   "cell_type": "code",
   "execution_count": 36,
   "metadata": {},
   "outputs": [],
   "source": [
    "import pandas as pd\n",
    "import numpy as np\n",
    "import matplotlib.pyplot as plt"
   ]
  },
  {
   "cell_type": "code",
   "execution_count": 3,
   "metadata": {},
   "outputs": [],
   "source": [
    "def jaccard_sim(a, b):\n",
    "    union = set(a).union(set(b))\n",
    "    intersection = set(a).intersection(set(b))\n",
    "    \n",
    "    return len(intersection)/len(union)"
   ]
  },
  {
   "cell_type": "markdown",
   "metadata": {},
   "source": [
    "### 명시된 배차 간격이 동일한 버스들끼리 grouping"
   ]
  },
  {
   "cell_type": "code",
   "execution_count": 9,
   "metadata": {},
   "outputs": [],
   "source": [
    "route_group_by_interval_time = dict() # {10: [# 배차 간격이 10분인 버스 ids]}"
   ]
  },
  {
   "cell_type": "code",
   "execution_count": 10,
   "metadata": {},
   "outputs": [
    {
     "data": {
      "text/html": [
       "<div>\n",
       "<style scoped>\n",
       "    .dataframe tbody tr th:only-of-type {\n",
       "        vertical-align: middle;\n",
       "    }\n",
       "\n",
       "    .dataframe tbody tr th {\n",
       "        vertical-align: top;\n",
       "    }\n",
       "\n",
       "    .dataframe thead th {\n",
       "        text-align: right;\n",
       "    }\n",
       "</style>\n",
       "<table border=\"1\" class=\"dataframe\">\n",
       "  <thead>\n",
       "    <tr style=\"text-align: right;\">\n",
       "      <th></th>\n",
       "      <th>routeid</th>\n",
       "      <th>routeno</th>\n",
       "      <th>startnodenm</th>\n",
       "      <th>startvehicletime</th>\n",
       "      <th>endnodenm</th>\n",
       "      <th>endvehicletime</th>\n",
       "      <th>intervaltime</th>\n",
       "    </tr>\n",
       "  </thead>\n",
       "  <tbody>\n",
       "    <tr>\n",
       "      <th>0</th>\n",
       "      <td>CAB285000006</td>\n",
       "      <td>11</td>\n",
       "      <td>두정우성아파트</td>\n",
       "      <td>605</td>\n",
       "      <td>두정우남아파트</td>\n",
       "      <td>2230</td>\n",
       "      <td>10</td>\n",
       "    </tr>\n",
       "    <tr>\n",
       "      <th>1</th>\n",
       "      <td>CAB285000007</td>\n",
       "      <td>11</td>\n",
       "      <td>두정우남아파트</td>\n",
       "      <td>610</td>\n",
       "      <td>두정한성아파트</td>\n",
       "      <td>2230</td>\n",
       "      <td>10</td>\n",
       "    </tr>\n",
       "    <tr>\n",
       "      <th>2</th>\n",
       "      <td>CAB285000008</td>\n",
       "      <td>12</td>\n",
       "      <td>방아다리공원</td>\n",
       "      <td>604</td>\n",
       "      <td>부영아파트</td>\n",
       "      <td>2230</td>\n",
       "      <td>7</td>\n",
       "    </tr>\n",
       "    <tr>\n",
       "      <th>3</th>\n",
       "      <td>CAB285000009</td>\n",
       "      <td>12</td>\n",
       "      <td>부영아파트</td>\n",
       "      <td>605</td>\n",
       "      <td>방아다리공원</td>\n",
       "      <td>2222</td>\n",
       "      <td>7</td>\n",
       "    </tr>\n",
       "    <tr>\n",
       "      <th>4</th>\n",
       "      <td>CAB285000010</td>\n",
       "      <td>13</td>\n",
       "      <td>단대병원</td>\n",
       "      <td>600</td>\n",
       "      <td>천안아산역</td>\n",
       "      <td>2230</td>\n",
       "      <td>11</td>\n",
       "    </tr>\n",
       "    <tr>\n",
       "      <th>5</th>\n",
       "      <td>CAB285000011</td>\n",
       "      <td>13</td>\n",
       "      <td>천안아산역</td>\n",
       "      <td>605</td>\n",
       "      <td>단대병원</td>\n",
       "      <td>2245</td>\n",
       "      <td>11</td>\n",
       "    </tr>\n",
       "    <tr>\n",
       "      <th>6</th>\n",
       "      <td>CAB285000012</td>\n",
       "      <td>14</td>\n",
       "      <td>방아다리공원</td>\n",
       "      <td>600</td>\n",
       "      <td>백석대학교(운동장)</td>\n",
       "      <td>2220</td>\n",
       "      <td>10</td>\n",
       "    </tr>\n",
       "    <tr>\n",
       "      <th>7</th>\n",
       "      <td>CAB285000013</td>\n",
       "      <td>14</td>\n",
       "      <td>백석대학교(운동장)</td>\n",
       "      <td>610</td>\n",
       "      <td>방아다리공원</td>\n",
       "      <td>2215</td>\n",
       "      <td>10</td>\n",
       "    </tr>\n",
       "    <tr>\n",
       "      <th>8</th>\n",
       "      <td>CAB285000024</td>\n",
       "      <td>24</td>\n",
       "      <td>각원사</td>\n",
       "      <td>610</td>\n",
       "      <td>동우아파트</td>\n",
       "      <td>2230</td>\n",
       "      <td>20</td>\n",
       "    </tr>\n",
       "    <tr>\n",
       "      <th>9</th>\n",
       "      <td>CAB285000025</td>\n",
       "      <td>24</td>\n",
       "      <td>동우아파트</td>\n",
       "      <td>620</td>\n",
       "      <td>각원사</td>\n",
       "      <td>2225</td>\n",
       "      <td>20</td>\n",
       "    </tr>\n",
       "    <tr>\n",
       "      <th>10</th>\n",
       "      <td>CAB285000293</td>\n",
       "      <td>81</td>\n",
       "      <td>각원사</td>\n",
       "      <td>620</td>\n",
       "      <td>차암2통</td>\n",
       "      <td>2240</td>\n",
       "      <td>20</td>\n",
       "    </tr>\n",
       "    <tr>\n",
       "      <th>11</th>\n",
       "      <td>CAB285000294</td>\n",
       "      <td>81</td>\n",
       "      <td>차암2통</td>\n",
       "      <td>630</td>\n",
       "      <td>각원사</td>\n",
       "      <td>2230</td>\n",
       "      <td>20</td>\n",
       "    </tr>\n",
       "  </tbody>\n",
       "</table>\n",
       "</div>"
      ],
      "text/plain": [
       "         routeid  routeno startnodenm  startvehicletime   endnodenm  \\\n",
       "0   CAB285000006       11     두정우성아파트               605     두정우남아파트   \n",
       "1   CAB285000007       11     두정우남아파트               610     두정한성아파트   \n",
       "2   CAB285000008       12      방아다리공원               604       부영아파트   \n",
       "3   CAB285000009       12       부영아파트               605      방아다리공원   \n",
       "4   CAB285000010       13        단대병원               600       천안아산역   \n",
       "5   CAB285000011       13       천안아산역               605        단대병원   \n",
       "6   CAB285000012       14      방아다리공원               600  백석대학교(운동장)   \n",
       "7   CAB285000013       14  백석대학교(운동장)               610      방아다리공원   \n",
       "8   CAB285000024       24         각원사               610       동우아파트   \n",
       "9   CAB285000025       24       동우아파트               620         각원사   \n",
       "10  CAB285000293       81         각원사               620        차암2통   \n",
       "11  CAB285000294       81        차암2통               630         각원사   \n",
       "\n",
       "    endvehicletime  intervaltime  \n",
       "0             2230            10  \n",
       "1             2230            10  \n",
       "2             2230             7  \n",
       "3             2222             7  \n",
       "4             2230            11  \n",
       "5             2245            11  \n",
       "6             2220            10  \n",
       "7             2215            10  \n",
       "8             2230            20  \n",
       "9             2225            20  \n",
       "10            2240            20  \n",
       "11            2230            20  "
      ]
     },
     "execution_count": 10,
     "metadata": {},
     "output_type": "execute_result"
    }
   ],
   "source": [
    "route_info_df = pd.read_csv('../csv/route_info.csv', index_col=0)\n",
    "route_info_df"
   ]
  },
  {
   "cell_type": "code",
   "execution_count": 13,
   "metadata": {},
   "outputs": [
    {
     "data": {
      "text/plain": [
       "{10: ['CAB285000006', 'CAB285000007', 'CAB285000012', 'CAB285000013'],\n",
       " 7: ['CAB285000008', 'CAB285000009'],\n",
       " 11: ['CAB285000010', 'CAB285000011'],\n",
       " 20: ['CAB285000024', 'CAB285000025', 'CAB285000293', 'CAB285000294']}"
      ]
     },
     "execution_count": 13,
     "metadata": {},
     "output_type": "execute_result"
    }
   ],
   "source": [
    "for i in range(len(route_info_df)):\n",
    "    if route_info_df.iloc[i, 6] not in route_group_by_interval_time:\n",
    "        route_group_by_interval_time[route_info_df.iloc[i, 6]] = list()\n",
    "    route_group_by_interval_time[route_info_df.iloc[i, 6]].append(route_info_df.iloc[i, 0])\n",
    "    \n",
    "route_group_by_interval_time"
   ]
  },
  {
   "cell_type": "markdown",
   "metadata": {},
   "source": [
    "### Compute path similarity using Jaccard Similarity"
   ]
  },
  {
   "cell_type": "code",
   "execution_count": 14,
   "metadata": {},
   "outputs": [
    {
     "data": {
      "text/html": [
       "<div>\n",
       "<style scoped>\n",
       "    .dataframe tbody tr th:only-of-type {\n",
       "        vertical-align: middle;\n",
       "    }\n",
       "\n",
       "    .dataframe tbody tr th {\n",
       "        vertical-align: top;\n",
       "    }\n",
       "\n",
       "    .dataframe thead th {\n",
       "        text-align: right;\n",
       "    }\n",
       "</style>\n",
       "<table border=\"1\" class=\"dataframe\">\n",
       "  <thead>\n",
       "    <tr style=\"text-align: right;\">\n",
       "      <th></th>\n",
       "      <th>routeid</th>\n",
       "      <th>node_ids</th>\n",
       "    </tr>\n",
       "  </thead>\n",
       "  <tbody>\n",
       "    <tr>\n",
       "      <th>0</th>\n",
       "      <td>CAB285000006</td>\n",
       "      <td>['CAB285000930', 'CAB285000928', 'CAB285000926...</td>\n",
       "    </tr>\n",
       "    <tr>\n",
       "      <th>1</th>\n",
       "      <td>CAB285000007</td>\n",
       "      <td>['CAB285001033', 'CAB285001031', 'CAB285001035...</td>\n",
       "    </tr>\n",
       "    <tr>\n",
       "      <th>2</th>\n",
       "      <td>CAB285000008</td>\n",
       "      <td>['CAB285010020', 'CAB285000873', 'CAB285000872...</td>\n",
       "    </tr>\n",
       "    <tr>\n",
       "      <th>3</th>\n",
       "      <td>CAB285000009</td>\n",
       "      <td>['CAB285000784', 'CAB285000780', 'CAB285001969...</td>\n",
       "    </tr>\n",
       "    <tr>\n",
       "      <th>4</th>\n",
       "      <td>CAB285000010</td>\n",
       "      <td>['CAB285000640', 'CAB285000641', 'CAB285000642...</td>\n",
       "    </tr>\n",
       "    <tr>\n",
       "      <th>5</th>\n",
       "      <td>CAB285000011</td>\n",
       "      <td>['CAB288002022', 'CAB288002048', 'CAB288002219...</td>\n",
       "    </tr>\n",
       "    <tr>\n",
       "      <th>6</th>\n",
       "      <td>CAB285000012</td>\n",
       "      <td>['CAB285010020', 'CAB285000873', 'CAB285000872...</td>\n",
       "    </tr>\n",
       "    <tr>\n",
       "      <th>7</th>\n",
       "      <td>CAB285000013</td>\n",
       "      <td>['CAB285001598', 'CAB285001597', 'CAB285002282...</td>\n",
       "    </tr>\n",
       "    <tr>\n",
       "      <th>8</th>\n",
       "      <td>CAB285000024</td>\n",
       "      <td>['CAB285001045', 'CAB285001044', 'CAB285002190...</td>\n",
       "    </tr>\n",
       "    <tr>\n",
       "      <th>9</th>\n",
       "      <td>CAB285000025</td>\n",
       "      <td>['CAB285010146', 'CAB285000318', 'CAB285000317...</td>\n",
       "    </tr>\n",
       "    <tr>\n",
       "      <th>10</th>\n",
       "      <td>CAB285000293</td>\n",
       "      <td>['CAB285001045', 'CAB285001044', 'CAB285001047...</td>\n",
       "    </tr>\n",
       "    <tr>\n",
       "      <th>11</th>\n",
       "      <td>CAB285000294</td>\n",
       "      <td>['CAB285001574', 'CAB285000293', 'CAB285002263...</td>\n",
       "    </tr>\n",
       "  </tbody>\n",
       "</table>\n",
       "</div>"
      ],
      "text/plain": [
       "         routeid                                           node_ids\n",
       "0   CAB285000006  ['CAB285000930', 'CAB285000928', 'CAB285000926...\n",
       "1   CAB285000007  ['CAB285001033', 'CAB285001031', 'CAB285001035...\n",
       "2   CAB285000008  ['CAB285010020', 'CAB285000873', 'CAB285000872...\n",
       "3   CAB285000009  ['CAB285000784', 'CAB285000780', 'CAB285001969...\n",
       "4   CAB285000010  ['CAB285000640', 'CAB285000641', 'CAB285000642...\n",
       "5   CAB285000011  ['CAB288002022', 'CAB288002048', 'CAB288002219...\n",
       "6   CAB285000012  ['CAB285010020', 'CAB285000873', 'CAB285000872...\n",
       "7   CAB285000013  ['CAB285001598', 'CAB285001597', 'CAB285002282...\n",
       "8   CAB285000024  ['CAB285001045', 'CAB285001044', 'CAB285002190...\n",
       "9   CAB285000025  ['CAB285010146', 'CAB285000318', 'CAB285000317...\n",
       "10  CAB285000293  ['CAB285001045', 'CAB285001044', 'CAB285001047...\n",
       "11  CAB285000294  ['CAB285001574', 'CAB285000293', 'CAB285002263..."
      ]
     },
     "execution_count": 14,
     "metadata": {},
     "output_type": "execute_result"
    }
   ],
   "source": [
    "node_id_df = pd.read_csv('../csv/all_node_ids.csv', index_col=0)\n",
    "node_id_df"
   ]
  },
  {
   "cell_type": "code",
   "execution_count": 49,
   "metadata": {},
   "outputs": [
    {
     "name": "stdout",
     "output_type": "stream",
     "text": [
      "[[1.         0.02409639 0.01369863 0.02777778]\n",
      " [0.02409639 1.         0.02816901 0.        ]\n",
      " [0.01369863 0.02816901 1.         0.        ]\n",
      " [0.02777778 0.         0.         1.        ]]\n",
      "======== [ end comparing of interval group10 ]\n",
      "[[1.         0.02409639]\n",
      " [0.02409639 1.        ]]\n",
      "======== [ end comparing of interval group7 ]\n",
      "[[1.         0.02409639]\n",
      " [0.02409639 1.        ]]\n",
      "======== [ end comparing of interval group11 ]\n",
      "[[1.         0.02409639 0.01369863 0.02777778]\n",
      " [0.02409639 1.         0.02816901 0.        ]\n",
      " [0.01369863 0.02816901 1.         0.        ]\n",
      " [0.02777778 0.         0.         1.        ]]\n",
      "======== [ end comparing of interval group20 ]\n"
     ]
    },
    {
     "data": {
      "image/png": "[encoded data removed]",
      "text/plain": [
       "<Figure size 288x288 with 2 Axes>"
      ]
     },
     "metadata": {
      "needs_background": "light"
     },
     "output_type": "display_data"
    },
    {
     "data": {
      "image/png": "[encoded data removed]",
      "text/plain": [
       "<Figure size 144x144 with 2 Axes>"
      ]
     },
     "metadata": {
      "needs_background": "light"
     },
     "output_type": "display_data"
    },
    {
     "data": {
      "image/png": "[encoded data removed]",
      "text/plain": [
       "<Figure size 144x144 with 2 Axes>"
      ]
     },
     "metadata": {
      "needs_background": "light"
     },
     "output_type": "display_data"
    },
    {
     "data": {
      "image/png": "[encoded data removed]",
      "text/plain": [
       "<Figure size 288x288 with 2 Axes>"
      ]
     },
     "metadata": {
      "needs_background": "light"
     },
     "output_type": "display_data"
    }
   ],
   "source": [
    "for interval_time, bus_list in route_group_by_interval_time.items():\n",
    "    group_path_sim = list()\n",
    "    for i in range(len(bus_list)):\n",
    "        group_path_sim.append(list())\n",
    "        curr_bus_node_ids_str = node_id_df.loc[i, 'node_ids'] # extract node_ids from node_id_df\n",
    "        curr_bus_node_ids = curr_bus_node_ids_str[1:-1].replace(\"'\", \"\").split(', ') # str -> str arrary\n",
    "        \n",
    "        for j in range(len(bus_list)):\n",
    "            comp_bus_node_ids_str = node_id_df.loc[j, 'node_ids'] # extract node_ids from node_id_df\n",
    "            comp_bus_node_ids = comp_bus_node_ids_str[1:-1].replace(\"'\", \"\").split(', ') # str -> str arrary\n",
    "            \n",
    "            # Compute path similarity\n",
    "            path_sim = jaccard_sim(curr_bus_node_ids, comp_bus_node_ids)\n",
    "            group_path_sim[i].append(path_sim)\n",
    "    \n",
    "    # Draw graph\n",
    "    group_path_sim_T = np.transpose(group_path_sim) # temp = group_path_sim.T\n",
    "    print(group_path_sim_T)\n",
    "    \n",
    "    fig = plt.figure(figsize=[len(bus_list), len(bus_list)])\n",
    "    plt.imshow(group_path_sim_T, interpolation='none', vmin=0, vmax=0.3)\n",
    "    plt.colorbar(shrink=0.7)\n",
    "    plt.xticks(range(len(bus_list)), bus_list, rotation=90, ha='center')\n",
    "    plt.yticks(range(len(bus_list)), bus_list)\n",
    "    \n",
    "    # save graph\n",
    "    plt.savefig('../image/path_similarity_interval_'+str(interval_time)+'.png')\n",
    "\n",
    "    print('======== [ end comparing of interval group{} ]'.format(interval_time))"
   ]
  },
  {
   "cell_type": "code",
   "execution_count": null,
   "metadata": {},
   "outputs": [],
   "source": []
  }
 ],
 "metadata": {
  "kernelspec": {
   "display_name": "Python 3",
   "language": "python",
   "name": "python3"
  },
  "language_info": {
   "codemirror_mode": {
    "name": "ipython",
    "version": 3
   },
   "file_extension": ".py",
   "mimetype": "text/x-python",
   "name": "python",
   "nbconvert_exporter": "python",
   "pygments_lexer": "ipython3",
   "version": "3.8.5"
  }
 },
 "nbformat": 4,
 "nbformat_minor": 4
}
