{
 "cells": [
  {
   "cell_type": "code",
   "execution_count": 143,
   "metadata": {},
   "outputs": [
    {
     "name": "stderr",
     "output_type": "stream",
     "text": [
      "[nltk_data] Downloading package punkt to\n",
      "[nltk_data]     C:\\Users\\tjdwl\\AppData\\Roaming\\nltk_data...\n",
      "[nltk_data]   Package punkt is already up-to-date!\n"
     ]
    },
    {
     "data": {
      "text/plain": [
       "<wordcloud.wordcloud.WordCloud at 0x1cb3021b5b0>"
      ]
     },
     "execution_count": 143,
     "metadata": {},
     "output_type": "execute_result"
    }
   ],
   "source": [
    "import pandas as pd\n",
    "from wordcloud import WordCloud\n",
    "from PIL import Image\n",
    "import numpy as np\n",
    "import nltk\n",
    "\n",
    "cheonan_df = pd.io.parsers.read_csv(\"../csv/cheonan_bus_tweet_result.csv\")\n",
    "seoul_df = pd.io.parsers.read_csv(\"../csv/seoul_bus_tweet_result.csv\")\n",
    "\n",
    "cheonan_sliceData = cheonan_df.loc[:,\"tweet\"]\n",
    "seoul_sliceData = seoul_df.loc[:,\"tweet\"]\n",
    "\n",
    "nltk.download('punkt')\n",
    "stopwords = ['고','즉', '안','오', '나', '이', '있', '하', '것', '들', '그', '되', '수', '이', '보', '않', '없', '나', '사람', '주', '아니', '등', '같', '우리', '때', '년', '가', '한', '지', '대하', '오', '말', '일', '그렇', '위하']\n",
    "\n",
    "cheonan_text = \"\"\n",
    "seoul_text = \"\"\n",
    "\n",
    "# cheonan\n",
    "for line in cheonan_sliceData:\n",
    "    for word in nltk.tokenize.word_tokenize(line):\n",
    "        if word not in stopwords:\n",
    "            cheonan_text += line.replace('부산버스', '').replace('천안 버스', '').replace('천안버스', '').replace('ㅋ', '').replace('ㅠ', '').replace('ㅎ', '').replace('ㅜ', '').replace('ㄱ', '').replace('ㅡ', '').replace('ㄷ', '')\n",
    "# seoul\n",
    "for line in seoul_sliceData:\n",
    "    line = line.replace('서울버스', '').replace('서울 버스', '').replace('ㅋ', '').replace('ㅠ', '').replace('ㅎ', '').replace('ㅜ', '').replace('ㄱ', '').replace('ㅡ', '').replace('ㄷ', '')+\" \"\n",
    "    for word in nltk.tokenize.word_tokenize(line):\n",
    "        if word not in stopwords:\n",
    "            seoul_text += word+\" \"\n",
    "            \n",
    "cheonan_wordcloud = WordCloud(font_path='NanumGothic-Regular.ttf', \n",
    "                      max_words=200, \n",
    "                      width=800, \n",
    "                      height=600,  \n",
    "                      max_font_size=150).generate(cheonan_text)\n",
    "\n",
    "seoul_wordcloud = WordCloud(font_path='NanumGothic-Regular.ttf', \n",
    "                      max_words=200, \n",
    "                      width=800, \n",
    "                      height=600,  \n",
    "                      max_font_size=150).generate(seoul_text)\n",
    "\n",
    "\n",
    "cheonan_wordcloud.to_file('..image/cheonan_wordcloud.png') \n",
    "seoul_wordcloud.to_file('..image/seoul_wordcloud.png')\n",
    "     \n",
    "            "
   ]
  }
 ],
 "metadata": {
  "kernelspec": {
   "display_name": "Python 3",
   "language": "python",
   "name": "python3"
  },
  "language_info": {
   "codemirror_mode": {
    "name": "ipython",
    "version": 3
   },
   "file_extension": ".py",
   "mimetype": "text/x-python",
   "name": "python",
   "nbconvert_exporter": "python",
   "pygments_lexer": "ipython3",
   "version": "3.8.5"
  }
 },
 "nbformat": 4,
 "nbformat_minor": 4
}
