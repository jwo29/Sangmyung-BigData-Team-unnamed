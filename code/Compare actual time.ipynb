{
 "cells": [
  {
   "cell_type": "code",
   "execution_count": 2,
   "metadata": {},
   "outputs": [],
   "source": [
    "import numpy as np\n",
    "import pandas as pd\n",
    "import matplotlib.pyplot as plt\n",
    "import os"
   ]
  },
  {
   "cell_type": "code",
   "execution_count": 5,
   "metadata": {},
   "outputs": [],
   "source": [
    "routeid_list = [\"CAB285000006\",\n",
    "                \"CAB285000007\",\n",
    "                \"CAB285000008\",\n",
    "                \"CAB285000009\",\n",
    "                \"CAB285000010\",\n",
    "                \"CAB285000011\",\n",
    "                \"CAB285000012\",\n",
    "                \"CAB285000013\",\n",
    "                \"CAB285000024\",\n",
    "                \"CAB285000025\",\n",
    "                \"CAB285000293\",\n",
    "                \"CAB285000294\"]\n",
    "dir_list = [\"../Stage_1_1\", \"../Stage_2_1\"]"
   ]
  },
  {
   "cell_type": "code",
   "execution_count": 20,
   "metadata": {},
   "outputs": [],
   "source": [
    "for r_id in routeid_list:\n",
    "    bus_dic = {}\n",
    "    bus_df = pd.DataFrame(columns=['Stage', 'Time gap', 'Average'])\n",
    "    \n",
    "    for idx, directory in enumerate(dir_list):\n",
    "        path =  directory \n",
    "        file_list = os.listdir(path)\n",
    "\n",
    "        bus_dic[directory] = []\n",
    "        \n",
    "        for file in file_list:\n",
    "\n",
    "            df = pd.read_csv(path+\"/\"+file)\n",
    "            curr_bus = df[df[\"routeid\"] == r_id]\n",
    "            \n",
    "            for i in range(0, len(curr_bus), 2):\n",
    "                gap = curr_bus.iloc[i+1, 6] - curr_bus.iloc[i, 6]\n",
    "                bus_dic[directory].append(abs(gap))\n",
    "\n",
    "        bus_df.at[idx, \"Stage\"] = idx + 1\n",
    "        bus_df.at[idx, \"Time gap\"] = bus_dic[directory]\n",
    "        bus_df.at[idx, \"Average\"] = np.mean(bus_dic[directory])\n",
    "    \n",
    "    file_name = \"../mine_1/\"+r_id +\"_1.csv\"\n",
    "    bus_df.to_csv(file_name, index=False, mode='w', encoding='utf-8-sig')\n",
    "    "
   ]
  },
  {
   "cell_type": "code",
   "execution_count": 46,
   "metadata": {},
   "outputs": [],
   "source": [
    "total_averages = pd.DataFrame(columns=[\"CAB285000006\",\"CAB285000007\",\"CAB285000008\",\"CAB285000009\",\"CAB285000010\",\"CAB285000011\",\"CAB285000012\",\"CAB285000013\",\"CAB285000024\",\"CAB285000025\",\"CAB285000293\",\"CAB285000294\"],index=[\"Stage1_1\",\"Stage2_1\"])\n",
    "\n",
    "path =  \"../mine_1\"\n",
    "file_list = os.listdir(path)\n",
    "file_list\n",
    "\n",
    "\n",
    "for i in range(0,len(file_list)):\n",
    "    temp = pd.read_csv(\"../mine_1/\"+file_list[i])\n",
    "    #print(temp)\n",
    "    r_id = file_list[i][:-6]\n",
    "    #print(r_id)\n",
    "    total_averages[r_id][0] = (temp[\"Average\"][0])\n",
    "    total_averages[r_id][1] = (temp[\"Average\"][1])\n",
    "\n",
    "total_averages[\"total_average\"] = total_averages.mean(axis=1)\n",
    "total_averages.to_csv(\"../csv/data_table_1.csv\", index=False, mode='w', encoding='utf-8-sig')"
   ]
  },
  {
   "cell_type": "code",
   "execution_count": 74,
   "metadata": {},
   "outputs": [],
   "source": [
    "df = pd.read_csv(\"../csv/data_table.csv\")\n",
    "df2 = pd.read_csv(\"../csv/data_table_1.csv\")"
   ]
  },
  {
   "cell_type": "code",
   "execution_count": 75,
   "metadata": {},
   "outputs": [],
   "source": [
    "df = df.drop(\"total_average\", axis =1)\n",
    "df2 = df2.drop(\"total_average\", axis =1)"
   ]
  },
  {
   "cell_type": "code",
   "execution_count": 76,
   "metadata": {},
   "outputs": [],
   "source": [
    "# 데이터 칼럼,인덱스 이름 변경\n",
    "df.index = [\"Stage1\", \"Stage2\", \"Stage3\", \"Stage4\"]\n",
    "df.columns = [\"11(6)\",\"11(7)\",\"12(8)\",\"12(9)\",\"13(10)\",\"13(11)\",\"14(12)\",\"14(13)\",\"24(24)\",\"24(25)\",\"81(293)\",\"81(294)\"]\n",
    "df.columns.names = [\"bus_num(routeid)\"]\n",
    "\n",
    "df2.index = [\"Stage1\", \"Stage2\"]\n",
    "df2.columns = [\"11(6)\",\"11(7)\",\"12(8)\",\"12(9)\",\"13(10)\",\"13(11)\",\"14(12)\",\"14(13)\",\"24(24)\",\"24(25)\",\"81(293)\",\"81(294)\"]\n",
    "df2.columns.names = [\"bus_num(routeid)\"]"
   ]
  },
  {
   "cell_type": "code",
   "execution_count": 77,
   "metadata": {},
   "outputs": [],
   "source": [
    "route_info = pd.read_csv('../csv/route_info.csv')\n",
    "interval_times = route_info['intervaltime']"
   ]
  },
  {
   "cell_type": "code",
   "execution_count": 84,
   "metadata": {},
   "outputs": [],
   "source": [
    "time_gap_df = pd.DataFrame(columns=[\"Specified Time\", \"Actual Time(1,2,3,4)\", \"Actual Time(1_1,2_1)\"])"
   ]
  },
  {
   "cell_type": "code",
   "execution_count": 85,
   "metadata": {},
   "outputs": [
    {
     "data": {
      "text/html": [
       "<div>\n",
       "<style scoped>\n",
       "    .dataframe tbody tr th:only-of-type {\n",
       "        vertical-align: middle;\n",
       "    }\n",
       "\n",
       "    .dataframe tbody tr th {\n",
       "        vertical-align: top;\n",
       "    }\n",
       "\n",
       "    .dataframe thead th {\n",
       "        text-align: right;\n",
       "    }\n",
       "</style>\n",
       "<table border=\"1\" class=\"dataframe\">\n",
       "  <thead>\n",
       "    <tr style=\"text-align: right;\">\n",
       "      <th></th>\n",
       "      <th>Specified Time</th>\n",
       "      <th>Actual Time(1,2,3,4)</th>\n",
       "      <th>Actual Time(1_1,2_1)</th>\n",
       "    </tr>\n",
       "  </thead>\n",
       "  <tbody>\n",
       "    <tr>\n",
       "      <th>11(6)</th>\n",
       "      <td>10.0</td>\n",
       "      <td>13.159554</td>\n",
       "      <td>13.392099</td>\n",
       "    </tr>\n",
       "    <tr>\n",
       "      <th>11(7)</th>\n",
       "      <td>10.0</td>\n",
       "      <td>12.804023</td>\n",
       "      <td>12.577538</td>\n",
       "    </tr>\n",
       "    <tr>\n",
       "      <th>12(8)</th>\n",
       "      <td>7.0</td>\n",
       "      <td>9.048009</td>\n",
       "      <td>8.647220</td>\n",
       "    </tr>\n",
       "    <tr>\n",
       "      <th>12(9)</th>\n",
       "      <td>7.0</td>\n",
       "      <td>9.583906</td>\n",
       "      <td>8.864285</td>\n",
       "    </tr>\n",
       "    <tr>\n",
       "      <th>13(10)</th>\n",
       "      <td>11.0</td>\n",
       "      <td>10.474763</td>\n",
       "      <td>10.632883</td>\n",
       "    </tr>\n",
       "    <tr>\n",
       "      <th>13(11)</th>\n",
       "      <td>11.0</td>\n",
       "      <td>12.816565</td>\n",
       "      <td>11.893448</td>\n",
       "    </tr>\n",
       "    <tr>\n",
       "      <th>14(12)</th>\n",
       "      <td>10.0</td>\n",
       "      <td>14.732835</td>\n",
       "      <td>14.122980</td>\n",
       "    </tr>\n",
       "    <tr>\n",
       "      <th>14(13)</th>\n",
       "      <td>10.0</td>\n",
       "      <td>11.418399</td>\n",
       "      <td>11.326981</td>\n",
       "    </tr>\n",
       "    <tr>\n",
       "      <th>24(24)</th>\n",
       "      <td>20.0</td>\n",
       "      <td>19.196051</td>\n",
       "      <td>20.422007</td>\n",
       "    </tr>\n",
       "    <tr>\n",
       "      <th>24(25)</th>\n",
       "      <td>20.0</td>\n",
       "      <td>18.441348</td>\n",
       "      <td>17.173547</td>\n",
       "    </tr>\n",
       "    <tr>\n",
       "      <th>81(293)</th>\n",
       "      <td>20.0</td>\n",
       "      <td>14.050559</td>\n",
       "      <td>12.190552</td>\n",
       "    </tr>\n",
       "    <tr>\n",
       "      <th>81(294)</th>\n",
       "      <td>20.0</td>\n",
       "      <td>15.901700</td>\n",
       "      <td>16.413772</td>\n",
       "    </tr>\n",
       "  </tbody>\n",
       "</table>\n",
       "</div>"
      ],
      "text/plain": [
       "         Specified Time  Actual Time(1,2,3,4)  Actual Time(1_1,2_1)\n",
       "11(6)              10.0             13.159554             13.392099\n",
       "11(7)              10.0             12.804023             12.577538\n",
       "12(8)               7.0              9.048009              8.647220\n",
       "12(9)               7.0              9.583906              8.864285\n",
       "13(10)             11.0             10.474763             10.632883\n",
       "13(11)             11.0             12.816565             11.893448\n",
       "14(12)             10.0             14.732835             14.122980\n",
       "14(13)             10.0             11.418399             11.326981\n",
       "24(24)             20.0             19.196051             20.422007\n",
       "24(25)             20.0             18.441348             17.173547\n",
       "81(293)            20.0             14.050559             12.190552\n",
       "81(294)            20.0             15.901700             16.413772"
      ]
     },
     "execution_count": 85,
     "metadata": {},
     "output_type": "execute_result"
    }
   ],
   "source": [
    "for i, c in enumerate(df.columns):\n",
    "    time_gap_df.loc[i] = [interval_times[i],df[c].mean()/60, df2[c].mean()/60]\n",
    "\n",
    "time_gap_df.index = [\"11(6)\",\"11(7)\",\"12(8)\",\"12(9)\",\"13(10)\",\"13(11)\",\"14(12)\",\"14(13)\",\"24(24)\",\"24(25)\",\"81(293)\",\"81(294)\"]\n",
    "time_gap_df   "
   ]
  },
  {
   "cell_type": "code",
   "execution_count": 86,
   "metadata": {},
   "outputs": [
    {
     "data": {
      "text/plain": [
       "<matplotlib.legend.Legend at 0x1b782a1f310>"
      ]
     },
     "execution_count": 86,
     "metadata": {},
     "output_type": "execute_result"
    },
    {
     "data": {
      "image/png": "[encoded data removed]",
      "text/plain": [
       "<Figure size 1080x432 with 1 Axes>"
      ]
     },
     "metadata": {
      "needs_background": "light"
     },
     "output_type": "display_data"
    }
   ],
   "source": [
    "ax = time_gap_df.plot(kind=\"bar\", width=0.5, figsize=(15,6), rot=0)\n",
    "plt.title(\"Compare Actual time\", fontsize=20)\n",
    "plt.ylabel(\"Intervaltime\")\n",
    "plt.xticks(rotation=0)\n",
    "plt.legend(bbox_to_anchor=(1.00, 1.0), loc='upper left')\n",
    "#plt.savefig('../image/Compare_Actual_time.png',dpi=300,bbox_inches='tight')"
   ]
  }
 ],
 "metadata": {
  "kernelspec": {
   "display_name": "Python 3",
   "language": "python",
   "name": "python3"
  },
  "language_info": {
   "codemirror_mode": {
    "name": "ipython",
    "version": 3
   },
   "file_extension": ".py",
   "mimetype": "text/x-python",
   "name": "python",
   "nbconvert_exporter": "python",
   "pygments_lexer": "ipython3",
   "version": "3.8.5"
  }
 },
 "nbformat": 4,
 "nbformat_minor": 4
}
