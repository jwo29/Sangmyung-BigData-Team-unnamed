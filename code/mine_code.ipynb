{
 "cells": [
  {
   "cell_type": "code",
   "execution_count": 1,
   "metadata": {},
   "outputs": [],
   "source": [
    "import os\n",
    "import pandas as pd\n",
    "import math\n",
    "import numpy as np"
   ]
  },
  {
   "cell_type": "code",
   "execution_count": 2,
   "metadata": {},
   "outputs": [],
   "source": [
    "routeid_list = [\"CAB285000006\",\n",
    "                \"CAB285000007\",\n",
    "                \"CAB285000008\",\n",
    "                \"CAB285000009\",\n",
    "                \"CAB285000010\",\n",
    "                \"CAB285000011\",\n",
    "                \"CAB285000012\",\n",
    "                \"CAB285000013\",\n",
    "                \"CAB285000024\",\n",
    "                \"CAB285000025\",\n",
    "                \"CAB285000293\",\n",
    "                \"CAB285000294\"]\n",
    "\n",
    "dir_list = [\"Stage_1\", \"Stage_2\", \"Stage_3\", \"Stage_4\"]\n",
    "\n",
    "for r_id in routeid_list:\n",
    "    bus_dic = {}\n",
    "    bus_df = pd.DataFrame(columns=['Stage', 'Time gap', 'Average'])\n",
    "    \n",
    "    for idx, directory in enumerate(dir_list):\n",
    "        path =  directory \n",
    "        file_list = os.listdir(path)\n",
    "\n",
    "        bus_dic[directory] = []\n",
    "        \n",
    "        for file in file_list:\n",
    "\n",
    "            df = pd.read_csv(path+\"/\"+file)\n",
    "            curr_bus = df[df[\"routeid\"] == r_id]\n",
    "            \n",
    "            for i in range(0, len(curr_bus), 2):\n",
    "                gap = curr_bus.iloc[i+1, 6] - curr_bus.iloc[i, 6]\n",
    "                bus_dic[directory].append(abs(gap))\n",
    "\n",
    "        bus_df.at[idx, \"Stage\"] = idx + 1\n",
    "        bus_df.at[idx, \"Time gap\"] = bus_dic[directory]\n",
    "        bus_df.at[idx, \"Average\"] = np.mean(bus_dic[directory])\n",
    "\n",
    "    file_name = \"./mine/\"+r_id +\".csv\"\n",
    "    bus_df.to_csv(file_name, index=False, mode='w', encoding='utf-8-sig')"
   ]
  },
  {
   "cell_type": "code",
   "execution_count": 20,
   "metadata": {},
   "outputs": [],
   "source": [
    "total_averages = pd.DataFrame(columns=[\"CAB285000006\",\"CAB285000007\",\"CAB285000008\",\"CAB285000009\",\"CAB285000010\",\"CAB285000011\",\"CAB285000012\",\"CAB285000013\",\"CAB285000024\",\"CAB285000025\",\"CAB285000293\",\"CAB285000294\"],index=[\"Stage1\",\"Stage2\",\"Stage3\",\"Stage4\"])"
   ]
  },
  {
   "cell_type": "code",
   "execution_count": 22,
   "metadata": {},
   "outputs": [
    {
     "name": "stdout",
     "output_type": "stream",
     "text": [
      "['.ipynb_checkpoints', 'CAB285000006.csv', 'CAB285000007.csv', 'CAB285000008.csv', 'CAB285000009.csv', 'CAB285000010.csv', 'CAB285000011.csv', 'CAB285000012.csv', 'CAB285000013.csv', 'CAB285000024.csv', 'CAB285000025.csv', 'CAB285000293.csv', 'CAB285000294.csv']\n"
     ]
    }
   ],
   "source": [
    "path =  \"./mine\"\n",
    "file_list = os.listdir(path)"
   ]
  },
  {
   "cell_type": "code",
   "execution_count": 23,
   "metadata": {},
   "outputs": [],
   "source": [
    "for i in range(1,len(file_list)):\n",
    "    temp = pd.read_csv(\"./mine/\"+file_list[i])\n",
    "    r_id = file_list[i][:-4]\n",
    "\n",
    "    total_averages[r_id][0] = (temp[\"Average\"][0])\n",
    "    total_averages[r_id][1] = (temp[\"Average\"][1])\n",
    "    total_averages[r_id][2] = (temp[\"Average\"][2])\n",
    "    total_averages[r_id][3] = (temp[\"Average\"][3])\n",
    "\n",
    "total_averages[\"total_average\"] = total_averages.mean(axis=1)\n",
    "total_averages.to_csv(\"data_table.csv\", index=False, mode='w', encoding='utf-8-sig')\n",
    "#     aver_col = temp['Average']\n",
    "#     temp_df = pd.DataFrame(aver_col, columns=[r_id])\n",
    "    "
   ]
  }
 ],
 "metadata": {
  "kernelspec": {
   "display_name": "Python 3",
   "language": "python",
   "name": "python3"
  },
  "language_info": {
   "codemirror_mode": {
    "name": "ipython",
    "version": 3
   },
   "file_extension": ".py",
   "mimetype": "text/x-python",
   "name": "python",
   "nbconvert_exporter": "python",
   "pygments_lexer": "ipython3",
   "version": "3.8.5"
  }
 },
 "nbformat": 4,
 "nbformat_minor": 4
}
